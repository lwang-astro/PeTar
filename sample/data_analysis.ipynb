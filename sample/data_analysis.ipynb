{
 "cells": [
  {
   "cell_type": "markdown",
   "id": "2b17b8dc",
   "metadata": {},
   "source": [
    "# PeTar Data Analysis Sample\n",
    "\n",
    "This sample demonstrates a basic usage of the data analysis module in Python. Users can find additional information about the data analysis module in the README on the PeTar GitHub page.\n",
    "\n",
    "To utilize the data analysis module, users should first import `petar` and other essential modules for data analysis."
   ]
  },
  {
   "cell_type": "code",
   "execution_count": null,
   "id": "bc106af5",
   "metadata": {},
   "outputs": [],
   "source": [
    "import petar\n",
    "import numpy as np\n",
    "import matplotlib.pyplot as plt\n",
    "%matplotlib inline"
   ]
  },
  {
   "cell_type": "markdown",
   "id": "1d48e15b",
   "metadata": {},
   "source": [
    "Users can duplicate the sample scripts located in the `sample` directory, specifically those named `star_cluster*.sh`, to a new directory of their choice. Depending on whether SSE/BSE and Galpy are enabled or not, the reading method requires different keyword arguments. Below, three distinct scenarios are presented to illustrate this."
   ]
  },
  {
   "cell_type": "markdown",
   "id": "36081578",
   "metadata": {},
   "source": [
    "# Pure Gravity Scenario"
   ]
  },
  {
   "cell_type": "markdown",
   "id": "426c922e",
   "metadata": {},
   "source": [
    "Upon executing the script `star_cluster.sh` to generate a star cluster model, it is essential to specify the path to this directory in the following steps."
   ]
  },
  {
   "cell_type": "code",
   "execution_count": null,
   "id": "c2a99496",
   "metadata": {},
   "outputs": [],
   "source": [
    "# path to the simulation directory\n",
    "path='/home/lwang/localdata/N1kb/'"
   ]
  },
  {
   "cell_type": "markdown",
   "id": "9df56234",
   "metadata": {},
   "source": [
    "## Reading Snapshots"
   ]
  },
  {
   "cell_type": "markdown",
   "id": "043571bc",
   "metadata": {},
   "source": [
    "Use `petar.PeTarDataHeader` to read the header line of snapshot, when snapshot is ASCII format:"
   ]
  },
  {
   "cell_type": "code",
   "execution_count": null,
   "id": "9952ede2",
   "metadata": {},
   "outputs": [],
   "source": [
    "filename = 'data.25'\n",
    "header = petar.PeTarDataHeader(path+filename)\n",
    "print('Time',header.time, '\\nN',header.n, '\\nFile ID',header.file_id)"
   ]
  },
  {
   "cell_type": "markdown",
   "id": "6ceeed25",
   "metadata": {},
   "source": [
    "Use `petar.Particle` to read the particle information in the snapshot. The first line is skiped."
   ]
  },
  {
   "cell_type": "code",
   "execution_count": null,
   "id": "8952b419",
   "metadata": {},
   "outputs": [],
   "source": [
    "particle = petar.Particle()\n",
    "particle.loadtxt(path+filename,skiprows=1)"
   ]
  },
  {
   "cell_type": "markdown",
   "id": "0d323f60",
   "metadata": {},
   "source": [
    "Use `calcR2` to calculate distance of particles to the center and plot the density profile"
   ]
  },
  {
   "cell_type": "code",
   "execution_count": null,
   "id": "a37b7045",
   "metadata": {},
   "outputs": [],
   "source": [
    "fig, axes=plt.subplots(1,1)\n",
    "# calculat R2\n",
    "particle.calcR2()\n",
    "# calculate R\n",
    "r = np.sqrt(particle.r2)\n",
    "# plot histogram of r\n",
    "axes.hist(r, bins=np.logspace(0,3,50))\n",
    "axes.set_xscale('log')\n",
    "axes.set_yscale('log')\n",
    "axes.set_xlabel('R')\n",
    "axes.set_ylabel('Count')"
   ]
  },
  {
   "cell_type": "markdown",
   "id": "294f9cee",
   "metadata": {},
   "source": [
    "## Plot the positions of stars\n",
    "\n",
    "To plot positions of stars in the x-y plane, where the colors of the points indicate the stellar mass."
   ]
  },
  {
   "cell_type": "code",
   "execution_count": null,
   "id": "8a0eba42",
   "metadata": {},
   "outputs": [],
   "source": [
    "import matplotlib.colors as colors\n",
    "\n",
    "fig, axes=plt.subplots(1,1)\n",
    "x = particle.pos[:,0]\n",
    "y = particle.pos[:,1]\n",
    "pt = axes.scatter(x, y, s=1, cmap='hot', norm=colors.LogNorm(vmin=0.08, vmax=150), c=particle.mass)\n",
    "cb = plt.colorbar(pt)\n",
    "cb.set_label('Mass')\n",
    "axes.set_aspect(1)\n",
    "axes.set_xlabel('x')\n",
    "axes.set_ylabel('y')"
   ]
  },
  {
   "cell_type": "markdown",
   "id": "cf0880cf",
   "metadata": {},
   "source": [
    "## Making Selection\n",
    "\n",
    "Create a subset of particles with distance to the cluter center < 10"
   ]
  },
  {
   "cell_type": "code",
   "execution_count": null,
   "id": "cfd5180c",
   "metadata": {},
   "outputs": [],
   "source": [
    "# calculate the cluster distance square\n",
    "particle.calcR2()\n",
    "\n",
    "# make selection\n",
    "sel = (particle.r2 < 100) \n",
    "\n",
    "# create a subset of data\n",
    "subset = particle[sel]"
   ]
  },
  {
   "cell_type": "markdown",
   "id": "f7fc80a2",
   "metadata": {},
   "source": [
    "Plot positions of stars in the x-y plane with distances < 10 "
   ]
  },
  {
   "cell_type": "code",
   "execution_count": null,
   "id": "91a3665c",
   "metadata": {
    "scrolled": true
   },
   "outputs": [],
   "source": [
    "import matplotlib.colors as colors\n",
    "\n",
    "fig, axes=plt.subplots(1,1)\n",
    "\n",
    "x = subset.pos[:,0]\n",
    "y = subset.pos[:,1]\n",
    "pt = axes.scatter(x, y, s=1, cmap='hot', norm=colors.LogNorm(vmin=0.08, vmax=150), c=subset.mass)\n",
    "cb = plt.colorbar(pt)\n",
    "cb.set_label('Mass')\n",
    "axes.set_aspect(1)\n",
    "axes.set_xlabel('x')\n",
    "axes.set_ylabel('y')"
   ]
  },
  {
   "cell_type": "markdown",
   "id": "8f02b953",
   "metadata": {},
   "source": [
    "## Printing Data in a Table\n",
    "\n",
    "Use `printTable` function, users can select the members to print with specified format. The following samples print the mass, x, y, z of the first 10 members in the subset of particles."
   ]
  },
  {
   "cell_type": "code",
   "execution_count": null,
   "id": "af5dba90",
   "metadata": {
    "scrolled": false
   },
   "outputs": [],
   "source": [
    "subset[:10].printTable([('mass','%10.5g'),('pos[0]','%20.14g'),('pos[1]','%20.14g'),('pos[2]','%20.14g')])"
   ]
  },
  {
   "cell_type": "markdown",
   "id": "f43e67fb",
   "metadata": {},
   "source": [
    "## Reading Binary Snapshots"
   ]
  },
  {
   "cell_type": "markdown",
   "id": "8129b615",
   "metadata": {},
   "source": [
    "Use `petar.Binary` to read binary snapshots generated by `petar.data.process`"
   ]
  },
  {
   "cell_type": "code",
   "execution_count": null,
   "id": "535f348b",
   "metadata": {},
   "outputs": [],
   "source": [
    "binary = petar.Binary(member_particle_type=petar.Particle, G=petar.G_MSUN_PC_MYR)\n",
    "binary.loadtxt(path+'data.25.binary')"
   ]
  },
  {
   "cell_type": "markdown",
   "id": "ffbf7554",
   "metadata": {},
   "source": [
    "## Plot semi-ecc distribution\n",
    "\n",
    "To plot the distribution of semi-major axes versus eccentricities of binaries, where colors represent mass ratio and sizes represent masses."
   ]
  },
  {
   "cell_type": "code",
   "execution_count": null,
   "id": "0f08a312",
   "metadata": {
    "scrolled": false
   },
   "outputs": [],
   "source": [
    "from matplotlib import gridspec\n",
    "fig = plt.figure(figsize=(4, 4),dpi=150) \n",
    "gs = fig.add_gridspec(2, 2, width_ratios=[3, 1], height_ratios=[1, 3]) \n",
    "\n",
    "axexy = fig.add_subplot(gs[1,0])\n",
    "axehx = fig.add_subplot(gs[0,0],sharex=axexy)\n",
    "axehy = fig.add_subplot(gs[1,1],sharey=axexy)\n",
    "axehx.get_xaxis().set_visible(False)\n",
    "axehy.get_yaxis().set_visible(False)\n",
    "plt.subplots_adjust(hspace=0.02,wspace=0.02)\n",
    "\n",
    "xlim=[0.1,1e4]\n",
    "ylim=[0,0.999]\n",
    "axexy.set_xlim(*xlim)\n",
    "axexy.set_ylim(*ylim)\n",
    "axehx.set_xscale('log')\n",
    "axexy.set_xlabel(r'Semi-major axes [AU]',fontsize=12)\n",
    "axexy.set_ylabel(r'eccentricity',fontsize=12)\n",
    "\n",
    "nbinx=30\n",
    "nbiny=30\n",
    "log_xbins=np.logspace(np.log10(xlim[0]),np.log10(xlim[1]), nbinx)\n",
    "ybins=np.linspace(ylim[0], ylim[1], nbiny)\n",
    "\n",
    "x = binary.semi*206265\n",
    "y = binary.ecc\n",
    "m1 = binary.p1.mass\n",
    "m2 = binary.p2.mass\n",
    "mass_ratio = np.minimum(m1,m2)/np.maximum(m1,m2)\n",
    "\n",
    "axehx.hist(x, bins=log_xbins,histtype='step',color='grey',\n",
    "           weights=np.ones(x.size)/x.size,label='Initial')\n",
    "axehy.hist(y, bins=ybins,histtype='step',orientation=\"horizontal\",color='grey',\n",
    "           weights=np.ones(x.size)/x.size)\n",
    "pt = axexy.scatter(x ,y, s=binary.mass, c=mass_ratio)\n",
    "cbaxes = fig.add_axes([0.95,0.15,0.02,0.7]) \n",
    "cb = plt.colorbar(pt, cax = cbaxes)  \n",
    "cb.set_label('mass ratio')"
   ]
  },
  {
   "cell_type": "markdown",
   "id": "9754d0c8",
   "metadata": {},
   "source": [
    "## Reading Lagrangian Properites"
   ]
  },
  {
   "cell_type": "markdown",
   "id": "bc473b59",
   "metadata": {},
   "source": [
    "Use `petar.LagrangianMultiple` to read the Lagrangian properties of the star cluster generated by `petar.data.process`:"
   ]
  },
  {
   "cell_type": "code",
   "execution_count": null,
   "id": "5e3a81e0",
   "metadata": {},
   "outputs": [],
   "source": [
    "lagr = petar.LagrangianMultiple()\n",
    "lagr.loadtxt(path+'data.lagr')"
   ]
  },
  {
   "cell_type": "markdown",
   "id": "b455c141",
   "metadata": {},
   "source": [
    "Plot the evolution of core radius and Lagrangian radii"
   ]
  },
  {
   "cell_type": "code",
   "execution_count": null,
   "id": "375355ee",
   "metadata": {},
   "outputs": [],
   "source": [
    "fig, axes=plt.subplots(1,1)\n",
    "for i in range(5):\n",
    "    axes.plot(lagr.time, lagr.all.r[:,i], '-',label=lagr.initargs['mass_fraction'][i])\n",
    "\n",
    "axes.plot(lagr.time, lagr.all.r[:,-1],'--',label='Rc')\n",
    "axes.set_xlabel('Time')\n",
    "axes.set_ylabel('R')\n",
    "axes.legend(loc='upper right')\n",
    "axes.set_yscale('log')"
   ]
  },
  {
   "cell_type": "markdown",
   "id": "b5eece55",
   "metadata": {},
   "source": [
    "## Reading Group Information\n",
    "\n",
    "By utilizing `petar.GroupInfo`, users can access details regarding the formation and dissolution of various systems, including binaries, triples, quadruples, and more. Upon employing `petar.data.gether -g data`, the group information is saved in files such as `data.group.n2`, `data.group.n3`, where the number denotes the count of members in the multiple systems. The following example demonstrates how to read the groups file and analyze the information."
   ]
  },
  {
   "cell_type": "code",
   "execution_count": null,
   "id": "12f0cc9c",
   "metadata": {
    "scrolled": false
   },
   "outputs": [],
   "source": [
    "# load two-body groups (binary, hyperbolic encounters)\n",
    "g2 = petar.GroupInfo(N=2)\n",
    "g2.loadtxt(path+'data.group.n2')\n",
    "\n",
    "# load 3-body \n",
    "g3 = petar.GroupInfo(N=3)\n",
    "g3.loadtxt(path+'data.group.n3')\n",
    "\n",
    "# load 4-body\n",
    "g4 = petar.GroupInfo(N=4)\n",
    "g4.loadtxt(path+'data.group.n4')"
   ]
  },
  {
   "cell_type": "markdown",
   "id": "d0bba4d6",
   "metadata": {},
   "source": [
    "Display a table illustrating the 3-body system, where 'bin0' denotes the outer pair and 'bin1' signifies the inner pair. The center of mass of the inner pair is one of the members of the outer pair. The ID of the center of mass particle is the lower of the two inner member IDs."
   ]
  },
  {
   "cell_type": "code",
   "execution_count": null,
   "id": "ff7fd7d9",
   "metadata": {
    "scrolled": false
   },
   "outputs": [],
   "source": [
    "g3.printTable([('bin0.m1','%10.4f'),('bin0.m2','%10.4f'),\n",
    "               ('bin0.p1.id','%11d'),('bin0.p2.id','%11d'),\n",
    "               ('bin0.semi','%10.4g'),('bin0.ecc','%10.4g'),\n",
    "               ('bin1.m1','%10.4f'),('bin1.m2','%10.4f'),\n",
    "               ('bin1.p1.id','%11d'),('bin1.p2.id','%11d'),\n",
    "               ('bin1.semi','%10.4g'),('bin1.ecc','%10.4g')])"
   ]
  },
  {
   "cell_type": "markdown",
   "id": "08798d79",
   "metadata": {},
   "source": [
    "# Scenario with Stellar Evolution (SSE/BSE)\n",
    "\n",
    "This section explains how to analyze a star cluster simulation that incorporates SSE/BSE. Users can utilize the `star_cluster_bse.sh` script to create a sample model of this nature."
   ]
  },
  {
   "cell_type": "code",
   "execution_count": null,
   "id": "119ea3f5",
   "metadata": {},
   "outputs": [],
   "source": [
    "# path to the simulation directory\n",
    "path='/home/lwang/localdata/N1kb_bse/'"
   ]
  },
  {
   "cell_type": "markdown",
   "id": "089b88d9",
   "metadata": {},
   "source": [
    "## Reading Snapshots\n",
    "\n",
    "Use `petar.Particle` to read the particle information in the snapshot, and include `interrupt_mode='bse'` to specify that SSE/BSE is activated during the compilation of PeTar. It is important to note that even if the stellar evolution option is disabled when using `petar`, but SSE/BSE is compiled, this argument is still required. Additionally, remember to skip the first line when reading the data."
   ]
  },
  {
   "cell_type": "code",
   "execution_count": null,
   "id": "b3a15723",
   "metadata": {},
   "outputs": [],
   "source": [
    "particle = petar.Particle(interrupt_mode='bse')\n",
    "particle.loadtxt(path+'data.25',skiprows=1)"
   ]
  },
  {
   "cell_type": "markdown",
   "id": "fd5172bb",
   "metadata": {},
   "source": [
    "## Ploting HR Diagram\n",
    "\n",
    "With SSE/BSE enabled, it becomes feasible to generate an HR diagram of stars, showcasing different stellar types with distinct colors. Below is an example demonstrating how to accomplish this task.\n",
    "\n",
    "Notice that the temperature is not directly stored in the dataset but can be computed using the following method."
   ]
  },
  {
   "cell_type": "code",
   "execution_count": null,
   "id": "1f60d5a3",
   "metadata": {},
   "outputs": [],
   "source": [
    "# luminosity\n",
    "lum = particle.star.lum\n",
    "# calculate temperature\n",
    "temp = 5778*(particle.star.lum/(particle.star.rad*particle.star.rad))**0.25\n",
    "\n",
    "# plot HR diagram\n",
    "import matplotlib.colors as colors\n",
    "fig, axes = plt.subplots(1,1)\n",
    "norm = colors.BoundaryNorm(boundaries=np.arange(16), ncolors=256)\n",
    "pt = axes.scatter(temp, lum, c=particle.star.type, cmap='rainbow', norm=norm)\n",
    "cb = plt.colorbar(pt)\n",
    "cb.set_label('SSE stellar type')\n",
    "axes.set_yscale('log')\n",
    "axes.set_xscale('log')\n",
    "axes.set_xlabel('Temperature')\n",
    "axes.set_ylabel('Luminosity')\n",
    "axes.set_xlim(30000, 1000)\n",
    "axes.set_ylim(1e-5, 1e6)"
   ]
  },
  {
   "cell_type": "markdown",
   "id": "96ed5246",
   "metadata": {},
   "source": [
    "## Reading Stellar Evolution Events\n",
    "\n",
    "When stars or binaries changes types, PeTar record the properties in event files. The follow scripts show how to read these event files generated by `petar.data.process`."
   ]
  },
  {
   "cell_type": "code",
   "execution_count": null,
   "id": "b43a985c",
   "metadata": {},
   "outputs": [],
   "source": [
    "# type change of stars\n",
    "sse_type=petar.SSETypeChange()\n",
    "sse_type.loadtxt(path+'data.sse.type_change')\n",
    "\n",
    "# supernova kicks of single stars\n",
    "sse_kick=petar.SSESNKick()\n",
    "sse_kick.loadtxt(path+'data.sse.sn_kick')\n",
    "\n",
    "# type change of binaries\n",
    "bse_type=petar.BSETypeChange()\n",
    "bse_type.loadtxt(path+'data.bse.type_change')\n",
    "\n",
    "# supernova kicks in binaries\n",
    "bse_kick=petar.BSESNKick()\n",
    "bse_kick.loadtxt(path+'data.bse.sn_kick')\n",
    "\n",
    "# dynamically driven mergers of hyperbolic encounters\n",
    "bse_dyn=petar.BSEDynamicMerge()\n",
    "bse_dyn.loadtxt(path+'data.bse.dynamic_merge')"
   ]
  },
  {
   "cell_type": "markdown",
   "id": "bf0f18c6",
   "metadata": {},
   "source": [
    "Print Events in a Table"
   ]
  },
  {
   "cell_type": "code",
   "execution_count": null,
   "id": "c410abfc",
   "metadata": {},
   "outputs": [],
   "source": [
    "bse_type.printTable([('type','%4d'),('init.time','%10g'),('init.type1','%11d'),('init.type2','%11d'),\n",
    "                     ('init.m1','%9f'),('init.m2','%9f'),('init.semi','%10g'),('init.ecc','%9f'),\n",
    "                     ('final.type1','%12d'),('final.type2','%12d'),('final.m1','%9f'),('final.m2','%9f'),\n",
    "                     ('final.semi','%11g'),('final.ecc','%10g')])"
   ]
  },
  {
   "cell_type": "markdown",
   "id": "6a02c43b",
   "metadata": {},
   "source": [
    "## Gather Merger Events\n",
    "\n",
    "Use `petar.BSEMerge`, users can gather the information of binary and hyperbolic mergers from binary type change and dynamical merger events. Below is an example demonstrating how to accomplish this task.\n",
    "\n",
    "Please be aware that in some cases, supernova events in binaries can completely disrupt a star, leaving no remnant behind. Such occurrences may mistakenly be classified as mergers. Therefore, the merger events identified here are considered 'candidates'. It is recommended to examine the evolutionary history of these mergers to confirm whether they are indeed true mergers."
   ]
  },
  {
   "cell_type": "code",
   "execution_count": null,
   "id": "8a4494ba",
   "metadata": {},
   "outputs": [],
   "source": [
    "merger = petar.BSEMerge()\n",
    "# Gather events\n",
    "merger.combine(bse_type, bse_dyn)\n",
    "\n",
    "# Print information of mergers\n",
    "merger.printTable()"
   ]
  },
  {
   "cell_type": "markdown",
   "id": "007597cb",
   "metadata": {},
   "source": [
    "## Gather Specified Objects\n",
    "\n",
    "Using `petar.get.object.snap`, users can scan a list of snapshots and gather specified objects into a single file with a time sequence based on selected single/binary IDs, stellar types, mass regions, or user-defined selection functions. For instance, after applying `petar.data.gether` and `petar.data.process`, running this tool to gather all binary main sequence stars (BMSs) in a simulation can be done with the following command:\n",
    "\n",
    "```\n",
    "petar.get.object.snap -i bse -f binary -m type MS MS data.snap.lst\n",
    "```\n",
    "\n",
    "In this command, `data.snap.lst` represents the snapshot list generated by `petar.data.gether`. Executing this command will create a new file named `object.MS.MS.binary`, which contains all BMSs detected in the snapshots.\n",
    "\n",
    "To read this file, a similar approach to reading binary snapshots generated by `petar.data.process` is required, with the addition of a new member `time` that needs to be included before reading."
   ]
  },
  {
   "cell_type": "code",
   "execution_count": null,
   "id": "8c51a38b",
   "metadata": {},
   "outputs": [],
   "source": [
    "bms = petar.Binary(member_particle_type=petar.Particle, interrupt_mode='bse', G=petar.G_MSUN_PC_MYR)\n",
    "bms.addNewMember('time', np.array([]).astype(float))\n",
    "bms.loadtxt(path+'object.MS.MS.binary')"
   ]
  },
  {
   "cell_type": "markdown",
   "id": "347876ab",
   "metadata": {},
   "source": [
    "With the retrieved data, we can visualize the evolution of binary parameters, such as the semi-major axes of all BMS."
   ]
  },
  {
   "cell_type": "code",
   "execution_count": null,
   "id": "107b9bdc",
   "metadata": {},
   "outputs": [],
   "source": [
    "fig, axes = plt.subplots(1,1)\n",
    "pt = axes.scatter(bms.time, bms.semi, c=bms.mass, s=2)\n",
    "cb = plt.colorbar(pt)\n",
    "cb.set_label(r'mass [$M_\\odot$]')\n",
    "axes.set_yscale('log')\n",
    "axes.set_xlabel('Time [Myr]')\n",
    "axes.set_ylabel('semi-major axes [pc]')"
   ]
  },
  {
   "cell_type": "markdown",
   "id": "5693b054",
   "metadata": {},
   "source": [
    "As another example, we collect the data of a star with ID = 1 from original snapshots generated by `petar` using the command:\n",
    "```\n",
    "petar.get.object.snap -i bse -f origin -m id 1 data.snap.lst\n",
    "```\n",
    "The resulting output file is named `object.1`.\n",
    "The method for reading this file is akin to reading single and original snapshot files, with the addition of the new member `time`."
   ]
  },
  {
   "cell_type": "code",
   "execution_count": null,
   "id": "b2ca058b",
   "metadata": {},
   "outputs": [],
   "source": [
    "p1 = petar.Particle(interrupt_mode='bse')\n",
    "p1.addNewMember('time', np.array([]).astype(float))\n",
    "p1.loadtxt(path+'object.1')"
   ]
  },
  {
   "cell_type": "markdown",
   "id": "7cf591fe",
   "metadata": {},
   "source": [
    "Next, we plot the trajectory of particle 1 in the x-y plane:"
   ]
  },
  {
   "cell_type": "code",
   "execution_count": null,
   "id": "df528a87",
   "metadata": {},
   "outputs": [],
   "source": [
    "fig, axes = plt.subplots(1,1)\n",
    "axes.plot(p1.pos[:,0],p1.pos[:,1],'-',c='grey')\n",
    "pt = axes.scatter(p1.pos[:,0], p1.pos[:,1], c=p1.time)\n",
    "cb = plt.colorbar(pt)\n",
    "cb.set_label(r'time [Myr]')\n",
    "axes.set_xlabel('x [pc]')\n",
    "axes.set_ylabel('y [pc]')\n",
    "axes.set_aspect(1)"
   ]
  },
  {
   "cell_type": "markdown",
   "id": "4c66cf50",
   "metadata": {},
   "source": [
    "# Scenario with SSE/BSE and Galpy\n",
    "\n",
    "This section explains how to analyze a star cluster simulation that incorporates SSE/BSE and Galactic potential (Galpy). Users can use the `star_cluster_bse_galpy.sh` script to create a sample model of this nature."
   ]
  },
  {
   "cell_type": "code",
   "execution_count": null,
   "id": "02bf2e69",
   "metadata": {},
   "outputs": [],
   "source": [
    "# path to the simulation directory\n",
    "path='/home/lwang/localdata/N1kb_bse_galpy/'"
   ]
  },
  {
   "cell_type": "markdown",
   "id": "f1187fa0",
   "metadata": {},
   "source": [
    "## Reading the Cluster Center Position and Velocity\n",
    "\n",
    "When using the Galactic potential, the coordinate system center in the simulation is aligned with the Galactic center. The header of snapshots contains information about the position and velocity of the cluster potential center, and all particle coordinates are relative to this center. The script below reads the header, and the `pos_offset` and `vel_offset` variables indicate the center position and velocity."
   ]
  },
  {
   "cell_type": "code",
   "execution_count": null,
   "id": "3594d996",
   "metadata": {},
   "outputs": [],
   "source": [
    "header = petar.PeTarDataHeader(path+'data.25',external_mode='galpy')"
   ]
  },
  {
   "cell_type": "code",
   "execution_count": null,
   "id": "8949bb3b",
   "metadata": {},
   "outputs": [],
   "source": [
    "print('Center position:',header.pos_offset, '\\nCenter velocity:', header.vel_offset)"
   ]
  },
  {
   "cell_type": "markdown",
   "id": "851d2e18",
   "metadata": {},
   "source": [
    "## Reading Snapshots \n",
    "\n",
    "Use `petar.Particle` to read the particle information in the snapshot, and include `interrupt_mode='bse' external_mode=galpy` to specify that SSE/BSE and Galpy is activated during the compilation of PeTar. It is important to note that even if the stellar evolution option is disabled or no external potential is enabled when using `petar`, but SSE/BSE and Galpy are both compiled, this argument is still required. Additionally, remember to skip the first line when reading the data."
   ]
  },
  {
   "cell_type": "code",
   "execution_count": null,
   "id": "341da445",
   "metadata": {},
   "outputs": [],
   "source": [
    "particle = petar.Particle(interrupt_mode='bse', external_mode='galpy')\n",
    "particle.loadtxt(path+'data.25',skiprows=1)"
   ]
  },
  {
   "cell_type": "markdown",
   "id": "306a461c",
   "metadata": {},
   "source": [
    "## Converting to Astropy SkyCoord Data Type\n",
    "\n",
    "The `astropy.SkyCoord` module offers a robust coordinate conversion method that can be useful for converting simulation data into observational coordinate systems like ICRS. By utilizing the `toSkyCoord` method, you can convert the header and snapshot data into the `SkyCoord` format:"
   ]
  },
  {
   "cell_type": "code",
   "execution_count": null,
   "id": "b676a790",
   "metadata": {},
   "outputs": [],
   "source": [
    "center_sc = header.toSkyCoord()\n",
    "snap_sc = particle.toSkyCoord(pos_offset=header.pos_offset, vel_offset=header.vel_offset)"
   ]
  },
  {
   "cell_type": "markdown",
   "id": "6e05400b",
   "metadata": {},
   "source": [
    "Get the position and velocity in ICRS frame"
   ]
  },
  {
   "cell_type": "code",
   "execution_count": null,
   "id": "b8d378bb",
   "metadata": {
    "scrolled": false
   },
   "outputs": [],
   "source": [
    "# print center in ICRS frame\n",
    "print(center_sc.icrs)\n",
    "# print first 10 particles in ICRS frame\n",
    "print(snap_sc[:10].icrs)"
   ]
  },
  {
   "cell_type": "markdown",
   "id": "1b82f651",
   "metadata": {},
   "source": [
    "## Plotting RA-Dec and Proper Motion\n",
    "\n",
    "With the SkyCoord format, plotting RA-Dec and Proper Motion of stars becomes straightforward. The following example selects stars within 10 parsecs from the cluster center and visualizes their RA-Dec and Proper Motion distribution. Stellar types are distinguished by colors, and star sizes correspond to their masses."
   ]
  },
  {
   "cell_type": "code",
   "execution_count": null,
   "id": "c69ba216",
   "metadata": {},
   "outputs": [],
   "source": [
    "fig, axes = plt.subplots(2,1, figsize=(4,6))\n",
    "\n",
    "# select stars based on distance\n",
    "particle.calcR2()\n",
    "r = np.sqrt(particle.r2)\n",
    "sel = (r<30)\n",
    "\n",
    "# RA-Dec\n",
    "norm = colors.BoundaryNorm(boundaries=np.arange(16), ncolors=256)\n",
    "pt1 = axes[0].scatter(snap_sc.icrs.ra[sel], snap_sc.icrs.dec[sel], s = particle.mass[sel], c=particle.star.type[sel], cmap='rainbow', norm=norm)\n",
    "cbaxes = fig.add_axes([0.95, 0.15, 0.03, 0.7]) \n",
    "cb = plt.colorbar(pt1, cax = cbaxes)  \n",
    "cb.set_label('SSE stellar type')\n",
    "axes[0].set_xlabel('RA')\n",
    "axes[0].set_ylabel('Dec')\n",
    "\n",
    "# Proper Motion\n",
    "axes[1].scatter(snap_sc.icrs.pm_ra_cosdec[sel], snap_sc.icrs.pm_dec[sel], s = particle.mass[sel], c=particle.star.type[sel], cmap='rainbow', norm=norm)\n",
    "axes[1].set_xlabel('pm_RA_cosdec')\n",
    "axes[1].set_ylabel('pm_Dec')\n"
   ]
  },
  {
   "cell_type": "code",
   "execution_count": null,
   "id": "07cc234f",
   "metadata": {},
   "outputs": [],
   "source": []
  }
 ],
 "metadata": {
  "kernelspec": {
   "display_name": "Python 3 (ipykernel)",
   "language": "python",
   "name": "python3"
  },
  "language_info": {
   "codemirror_mode": {
    "name": "ipython",
    "version": 3
   },
   "file_extension": ".py",
   "mimetype": "text/x-python",
   "name": "python",
   "nbconvert_exporter": "python",
   "pygments_lexer": "ipython3",
   "version": "3.8.10"
  },
  "toc": {
   "base_numbering": 1,
   "nav_menu": {},
   "number_sections": true,
   "sideBar": true,
   "skip_h1_title": false,
   "title_cell": "Table of Contents",
   "title_sidebar": "Contents",
   "toc_cell": false,
   "toc_position": {
    "height": "calc(100% - 180px)",
    "left": "10px",
    "top": "150px",
    "width": "209.323px"
   },
   "toc_section_display": true,
   "toc_window_display": true
  }
 },
 "nbformat": 4,
 "nbformat_minor": 5
}
